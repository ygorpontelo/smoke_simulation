{
 "cells": [
  {
   "cell_type": "markdown",
   "metadata": {
    "id": "6df7fd7e"
   },
   "source": [
    "## Comparação Jacobi X Numba"
   ]
  },
  {
   "cell_type": "code",
   "execution_count": 1,
   "metadata": {
    "executionInfo": {
     "elapsed": 1413,
     "status": "ok",
     "timestamp": 1655173633006,
     "user": {
      "displayName": "Ana Luiza Martins Cesario",
      "userId": "16107838121094046789"
     },
     "user_tz": 180
    },
    "id": "d7954be8"
   },
   "outputs": [],
   "source": [
    "import numpy as np\n",
    "\n",
    "from numba import cuda\n",
    "\n",
    "import time\n",
    "\n",
    "import pandas as pd\n"
   ]
  },
  {
   "cell_type": "code",
   "execution_count": 2,
   "metadata": {},
   "outputs": [],
   "source": [
    "import matplotlib.pyplot as plt"
   ]
  },
  {
   "cell_type": "code",
   "execution_count": 3,
   "metadata": {
    "executionInfo": {
     "elapsed": 18,
     "status": "ok",
     "timestamp": 1655173636887,
     "user": {
      "displayName": "Ana Luiza Martins Cesario",
      "userId": "16107838121094046789"
     },
     "user_tz": 180
    },
    "id": "109fd4ac"
   },
   "outputs": [],
   "source": [
    "@cuda.jit\n",
    "def gpu_iter(x, x0, A, b, n, m_iter):    \n",
    "    pos = cuda.grid(1)\n",
    "\n",
    "    # bound check\n",
    "    if pos < n:\n",
    "        # max inters  \n",
    "        for _ in range(m_iter):\n",
    "            # iteracao de Jacobi\n",
    "            x[pos] = b[pos]  \n",
    "            for j in range(n):\n",
    "                if j != pos:  \n",
    "                    x[pos] -= A[pos, j] * x0[j]\n",
    "    \n",
    "            if A[pos, pos] != 0:\n",
    "                x[pos] /= A[pos, pos]\n",
    "\n",
    "            x0[pos] = x[pos]\n",
    "\n",
    "\n",
    "def jacobi_gpu(A, b, max_iter=50):\n",
    "    n = b.size\n",
    "    x = np.zeros(n, dtype=np.float64)\n",
    "    x0 = np.zeros(n, dtype=np.float64)   \n",
    "\n",
    "    threadsperblock = 64\n",
    "    blockspergrid = (n + (threadsperblock - 1)) // threadsperblock\n",
    "\n",
    "    gpu_iter[blockspergrid, threadsperblock](x, x0, A, b, n, max_iter)\n",
    "    \n",
    "    return x\n"
   ]
  },
  {
   "cell_type": "code",
   "execution_count": 4,
   "metadata": {
    "executionInfo": {
     "elapsed": 299,
     "status": "ok",
     "timestamp": 1655173641300,
     "user": {
      "displayName": "Ana Luiza Martins Cesario",
      "userId": "16107838121094046789"
     },
     "user_tz": 180
    },
    "id": "d01e7137"
   },
   "outputs": [],
   "source": [
    "def generate_matrix(n):\n",
    "    return np.random.rand(n, n)\n",
    "    \n",
    "def generate_Bvector(n):\n",
    "    return np.random.rand(n)"
   ]
  },
  {
   "cell_type": "code",
   "execution_count": 5,
   "metadata": {
    "executionInfo": {
     "elapsed": 14,
     "status": "ok",
     "timestamp": 1655174211922,
     "user": {
      "displayName": "Ana Luiza Martins Cesario",
      "userId": "16107838121094046789"
     },
     "user_tz": 180
    },
    "id": "5c5aa7f8"
   },
   "outputs": [],
   "source": [
    "n = 512 #600\n",
    "A = generate_matrix(n)\n",
    "b = generate_Bvector(n)"
   ]
  },
  {
   "cell_type": "code",
   "execution_count": 6,
   "metadata": {
    "colab": {
     "background_save": true
    },
    "id": "af916333"
   },
   "outputs": [
    {
     "name": "stderr",
     "output_type": "stream",
     "text": [
      "/home/ygor/ygor/ic/graphics/venv/lib/python3.10/site-packages/numba/cuda/compiler.py:726: NumbaPerformanceWarning: Grid size (8) < 2 * SM count (32) will likely result in GPU under utilization due to low occupancy.\n",
      "  warn(NumbaPerformanceWarning(msg))\n",
      "/home/ygor/ygor/ic/graphics/venv/lib/python3.10/site-packages/numba/cuda/cudadrv/devicearray.py:885: NumbaPerformanceWarning: Host array used in CUDA kernel will incur copy overhead to/from device.\n",
      "  warn(NumbaPerformanceWarning(msg))\n",
      "/home/ygor/ygor/ic/graphics/venv/lib/python3.10/site-packages/numba/cuda/compiler.py:726: NumbaPerformanceWarning: Grid size (8) < 2 * SM count (32) will likely result in GPU under utilization due to low occupancy.\n",
      "  warn(NumbaPerformanceWarning(msg))\n"
     ]
    },
    {
     "data": {
      "text/plain": [
       "[0.007277238368988037,\n",
       " 0.0038657522201538085,\n",
       " 0.005524206161499024,\n",
       " 0.005922775268554687,\n",
       " 0.007407686710357666,\n",
       " 0.012081966400146485,\n",
       " 0.022170727252960206,\n",
       " 0.03297119617462158,\n",
       " 0.04331107139587402,\n",
       " 0.052252182960510256]"
      ]
     },
     "execution_count": 6,
     "metadata": {},
     "output_type": "execute_result"
    }
   ],
   "source": [
    "iterations = [10, 20, 30, 40, 50, 100, 200, 300, 400, 500]\n",
    "\n",
    "def evalTime(iterations):\n",
    "    times = []\n",
    "    for it in iterations:\n",
    "        TimeVector = []\n",
    "        for _ in range(100):\n",
    "            start_time = time.time()\n",
    "            jacobi_gpu(A, b, it)\n",
    "            end_time = time.time()\n",
    "            t = end_time - start_time\n",
    "            TimeVector.append(t)\n",
    "        times.append(np.mean(TimeVector))\n",
    "    return times\n",
    "\n",
    "runtimes = evalTime(iterations)\n",
    "runtimes"
   ]
  },
  {
   "cell_type": "code",
   "execution_count": 7,
   "metadata": {
    "colab": {
     "base_uri": "https://localhost:8080/",
     "height": 227
    },
    "executionInfo": {
     "elapsed": 27,
     "status": "error",
     "timestamp": 1655174139302,
     "user": {
      "displayName": "Ana Luiza Martins Cesario",
      "userId": "16107838121094046789"
     },
     "user_tz": 180
    },
    "id": "be4d4758",
    "outputId": "a1e8bc89-ee24-4e69-ed64-89bf91fda072"
   },
   "outputs": [
    {
     "data": {
      "text/html": [
       "<div>\n",
       "<style scoped>\n",
       "    .dataframe tbody tr th:only-of-type {\n",
       "        vertical-align: middle;\n",
       "    }\n",
       "\n",
       "    .dataframe tbody tr th {\n",
       "        vertical-align: top;\n",
       "    }\n",
       "\n",
       "    .dataframe thead th {\n",
       "        text-align: right;\n",
       "    }\n",
       "</style>\n",
       "<table border=\"1\" class=\"dataframe\">\n",
       "  <thead>\n",
       "    <tr style=\"text-align: right;\">\n",
       "      <th></th>\n",
       "      <th>Iterations</th>\n",
       "      <th>Runtimes</th>\n",
       "    </tr>\n",
       "  </thead>\n",
       "  <tbody>\n",
       "    <tr>\n",
       "      <th>0</th>\n",
       "      <td>10</td>\n",
       "      <td>0.007277</td>\n",
       "    </tr>\n",
       "    <tr>\n",
       "      <th>1</th>\n",
       "      <td>20</td>\n",
       "      <td>0.003866</td>\n",
       "    </tr>\n",
       "    <tr>\n",
       "      <th>2</th>\n",
       "      <td>30</td>\n",
       "      <td>0.005524</td>\n",
       "    </tr>\n",
       "    <tr>\n",
       "      <th>3</th>\n",
       "      <td>40</td>\n",
       "      <td>0.005923</td>\n",
       "    </tr>\n",
       "    <tr>\n",
       "      <th>4</th>\n",
       "      <td>50</td>\n",
       "      <td>0.007408</td>\n",
       "    </tr>\n",
       "    <tr>\n",
       "      <th>5</th>\n",
       "      <td>100</td>\n",
       "      <td>0.012082</td>\n",
       "    </tr>\n",
       "    <tr>\n",
       "      <th>6</th>\n",
       "      <td>200</td>\n",
       "      <td>0.022171</td>\n",
       "    </tr>\n",
       "    <tr>\n",
       "      <th>7</th>\n",
       "      <td>300</td>\n",
       "      <td>0.032971</td>\n",
       "    </tr>\n",
       "    <tr>\n",
       "      <th>8</th>\n",
       "      <td>400</td>\n",
       "      <td>0.043311</td>\n",
       "    </tr>\n",
       "    <tr>\n",
       "      <th>9</th>\n",
       "      <td>500</td>\n",
       "      <td>0.052252</td>\n",
       "    </tr>\n",
       "  </tbody>\n",
       "</table>\n",
       "</div>"
      ],
      "text/plain": [
       "   Iterations  Runtimes\n",
       "0          10  0.007277\n",
       "1          20  0.003866\n",
       "2          30  0.005524\n",
       "3          40  0.005923\n",
       "4          50  0.007408\n",
       "5         100  0.012082\n",
       "6         200  0.022171\n",
       "7         300  0.032971\n",
       "8         400  0.043311\n",
       "9         500  0.052252"
      ]
     },
     "execution_count": 7,
     "metadata": {},
     "output_type": "execute_result"
    }
   ],
   "source": [
    "data = pd.DataFrame(data={'Iterations': iterations, 'Runtimes': runtimes})\n",
    "data"
   ]
  },
  {
   "cell_type": "code",
   "execution_count": 8,
   "metadata": {},
   "outputs": [
    {
     "data": {
      "text/plain": [
       "<matplotlib.collections.PathCollection at 0x7f8eee9e93f0>"
      ]
     },
     "execution_count": 8,
     "metadata": {},
     "output_type": "execute_result"
    },
    {
     "data": {
      "image/png": "[encoded data removed]",
      "text/plain": [
       "<Figure size 432x288 with 1 Axes>"
      ]
     },
     "metadata": {
      "needs_background": "light"
     },
     "output_type": "display_data"
    }
   ],
   "source": [
    "plt.scatter(data['Iterations'], data['Runtimes'])"
   ]
  },
  {
   "cell_type": "code",
   "execution_count": 9,
   "metadata": {},
   "outputs": [],
   "source": [
    "data2 = [[10,20,30,40,50],[0.003485,0.003793,0.005032,0.005989,0.007450]]"
   ]
  },
  {
   "cell_type": "code",
   "execution_count": 10,
   "metadata": {},
   "outputs": [
    {
     "data": {
      "text/plain": [
       "Text(0, 0.5, 'tempo')"
      ]
     },
     "execution_count": 10,
     "metadata": {},
     "output_type": "execute_result"
    },
    {
     "data": {
      "image/png": "[encoded data removed]",
      "text/plain": [
       "<Figure size 432x288 with 1 Axes>"
      ]
     },
     "metadata": {
      "needs_background": "light"
     },
     "output_type": "display_data"
    }
   ],
   "source": [
    "plt.scatter(data2[0], data2[1])\n",
    "plt.xlabel(\"Iterações\")\n",
    "plt.ylabel(\"tempo\")"
   ]
  },
  {
   "cell_type": "markdown",
   "metadata": {},
   "source": [
    "### Tomando os 5 primeiros dados"
   ]
  },
  {
   "cell_type": "code",
   "execution_count": 11,
   "metadata": {},
   "outputs": [
    {
     "data": {
      "text/plain": [
       "Text(0, 0.5, 'tempo')"
      ]
     },
     "execution_count": 11,
     "metadata": {},
     "output_type": "execute_result"
    },
    {
     "data": {
      "image/png": "[encoded data removed]",
      "text/plain": [
       "<Figure size 432x288 with 1 Axes>"
      ]
     },
     "metadata": {
      "needs_background": "light"
     },
     "output_type": "display_data"
    }
   ],
   "source": [
    "plt.loglog(data2[0], data2[1])\n",
    "plt.xlabel(\"Iterações\")\n",
    "plt.ylabel(\"tempo\")"
   ]
  },
  {
   "cell_type": "markdown",
   "metadata": {},
   "source": [
    "A cada 10 iterações o tempo de execução aumenta 0.001s"
   ]
  }
 ],
 "metadata": {
  "colab": {
   "name": "Iterations X time.ipynb",
   "version": ""
  },
  "interpreter": {
   "hash": "1908fcd3f4493efac93479627e8391361028fc3ce2fe670a9d2ef39b2c632602"
  },
  "kernelspec": {
   "display_name": "Python 3",
   "language": "python",
   "name": "python3"
  },
  "language_info": {
   "codemirror_mode": {
    "name": "ipython",
    "version": 3
   },
   "file_extension": ".py",
   "mimetype": "text/x-python",
   "name": "python",
   "nbconvert_exporter": "python",
   "pygments_lexer": "ipython3",
   "version": "3.10.3"
  }
 },
 "nbformat": 4,
 "nbformat_minor": 5
}
